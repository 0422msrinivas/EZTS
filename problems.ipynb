{
 "cells": [
  {
   "cell_type": "code",
   "execution_count": 4,
   "id": "73b9651e",
   "metadata": {},
   "outputs": [
    {
     "name": "stdout",
     "output_type": "stream",
     "text": [
      "enter the number:2\n",
      "It is a prime number\n"
     ]
    }
   ],
   "source": [
    "\n",
    "\n",
    "n=int(input(\"enter the number:\"))\n",
    "flag=0\n",
    "if n==0 or n==1:\n",
    "    flag=1\n",
    "for i in range(2,int(n/2)):\n",
    "    if n%i==0:\n",
    "        flag=1\n",
    "        break\n",
    "if flag==0:\n",
    "    print(\"It is a prime number\")\n",
    "else:\n",
    "    print(\"it is not a prime number\")"
   ]
  },
  {
   "cell_type": "code",
   "execution_count": 15,
   "id": "ab7e4d65",
   "metadata": {},
   "outputs": [
    {
     "name": "stdout",
     "output_type": "stream",
     "text": [
      "0\n",
      "1\n",
      "1\n",
      "2\n",
      "3\n",
      "5\n",
      "8\n",
      "13\n",
      "21\n",
      "34\n"
     ]
    }
   ],
   "source": [
    "n=10\n",
    "f1=0\n",
    "f2=1\n",
    "f3=f1+f2\n",
    "if n==1:\n",
    "    print(f1)\n",
    "elif n==2:\n",
    "    print(f1)\n",
    "    print(f2)\n",
    "\n",
    "else:\n",
    "  \n",
    "    print(f1)\n",
    "    print(f2)\n",
    "    for i in range(2,n):\n",
    "        print(f3)\n",
    "        f1=f2\n",
    "        f2=f3\n",
    "        f3=f1+f2\n",
    "    "
   ]
  },
  {
   "cell_type": "code",
   "execution_count": null,
   "id": "16f2d435",
   "metadata": {},
   "outputs": [],
   "source": []
  }
 ],
 "metadata": {
  "kernelspec": {
   "display_name": "Python 3 (ipykernel)",
   "language": "python",
   "name": "python3"
  },
  "language_info": {
   "codemirror_mode": {
    "name": "ipython",
    "version": 3
   },
   "file_extension": ".py",
   "mimetype": "text/x-python",
   "name": "python",
   "nbconvert_exporter": "python",
   "pygments_lexer": "ipython3",
   "version": "3.11.5"
  }
 },
 "nbformat": 4,
 "nbformat_minor": 5
}
