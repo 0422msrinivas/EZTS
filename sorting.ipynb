{
 "cells": [
  {
   "cell_type": "code",
   "execution_count": 2,
   "id": "c5cbddac",
   "metadata": {},
   "outputs": [],
   "source": [
    "]\n",
    "def s(data):\n",
    "    n=len(data)-1\n",
    "    for j in range(0,n):\n",
    "        for i in range(0,n-j):\n",
    "            if data[i]>data[i+1]:\n",
    "                data[i],data[i+1]=data[i+1],data[i]"
   ]
  },
  {
   "cell_type": "code",
   "execution_count": 3,
   "id": "514265c7",
   "metadata": {},
   "outputs": [
    {
     "name": "stdout",
     "output_type": "stream",
     "text": [
      "1 3 2\n",
      "[1, 2, 3]\n"
     ]
    }
   ],
   "source": [
    "#a=list(map(int,input()).spilt())\n",
    "#a=list(map(int, input().split()))\n",
    "\n",
    "a=[ int(i) for i in input().split()]\n",
    "#a=[1,3,5,2,4]\n",
    "s(a)\n",
    "print(a)"
   ]
  },
  {
   "cell_type": "code",
   "execution_count": 70,
   "id": "a213c1d5",
   "metadata": {},
   "outputs": [],
   "source": [
    "def sl(a):\n",
    "    n=len(a)\n",
    "    for j in range(0,n):\n",
    "        m=j\n",
    "        for i in range(j+1,n):\n",
    "            if a[i]<a[m]:\n",
    "                m=i\n",
    "        \n",
    "        a[j],a[m]=a[m],a[j]"
   ]
  },
  {
   "cell_type": "code",
   "execution_count": 71,
   "id": "d3c6b72e",
   "metadata": {},
   "outputs": [
    {
     "name": "stdout",
     "output_type": "stream",
     "text": [
      "1 3 2\n",
      "[1, 3, 2]\n",
      "[1, 2, 3]\n"
     ]
    }
   ],
   "source": [
    "a=[ int(i) for i in input().split()]\n",
    "print(a)\n",
    "sl(a)\n",
    "print(a)"
   ]
  },
  {
   "cell_type": "code",
   "execution_count": null,
   "id": "ab1bdd96",
   "metadata": {},
   "outputs": [],
   "source": []
  },
  {
   "cell_type": "code",
   "execution_count": 5,
   "id": "11ccecb1",
   "metadata": {},
   "outputs": [],
   "source": [
    "def fib(n):\n",
    "    if n==0:\n",
    "            return 0\n",
    "    if n==1:\n",
    "            return 1\n",
    "    else:\n",
    "            return fib(n-1)+fib(n-2)"
   ]
  },
  {
   "cell_type": "code",
   "execution_count": 6,
   "id": "efef81fc",
   "metadata": {},
   "outputs": [
    {
     "name": "stdout",
     "output_type": "stream",
     "text": [
      "3\n",
      "0\n",
      "1\n",
      "1\n"
     ]
    }
   ],
   "source": [
    "if __name__==\"__main__\":\n",
    "    n=int(input())\n",
    "    for i in range(0,n):\n",
    "        print(fib(i))"
   ]
  },
  {
   "cell_type": "code",
   "execution_count": 11,
   "id": "19a5222e",
   "metadata": {},
   "outputs": [],
   "source": [
    "def fib1(n):\n",
    "    if n==1:\n",
    "            return 0\n",
    "    if n==2:\n",
    "            return 1\n",
    "    return fib(n-1)+fib(n-2)"
   ]
  },
  {
   "cell_type": "code",
   "execution_count": 12,
   "id": "5517385b",
   "metadata": {},
   "outputs": [
    {
     "name": "stdout",
     "output_type": "stream",
     "text": [
      "3\n",
      "1\n"
     ]
    }
   ],
   "source": [
    "if __name__==\"__main__\":\n",
    "    n=int(input())\n",
    "    #for i in range(0,n):\n",
    "    print(fib1(n))"
   ]
  },
  {
   "cell_type": "code",
   "execution_count": 13,
   "id": "390f67f7",
   "metadata": {},
   "outputs": [],
   "source": [
    "# quick sort\n",
    "# pivot ele is last ele \n",
    "# if i found samller ele than pivot ele then increase j by1 and swap it by i\n",
    "# if i foung bigger ele than pivot i will do nothing\n",
    "# \n",
    "#"
   ]
  },
  {
   "cell_type": "code",
   "execution_count": null,
   "id": "bc03f8a3",
   "metadata": {},
   "outputs": [],
   "source": [
    "l=list(map(int,input().split()))\n"
   ]
  },
  {
   "cell_type": "code",
   "execution_count": 20,
   "id": "b06f3c76",
   "metadata": {},
   "outputs": [],
   "source": [
    "def qs(a):\n",
    "    if len(a)<=1:\n",
    "        return a\n",
    "    p=a[len(a)-1]\n",
    "    l,m,r=[],[],[]\n",
    "    #m=[]\n",
    "    #r=[]\n",
    "    for i in range(len(a)):\n",
    "        if a[i]<p:\n",
    "            l.append(a[i])\n",
    "            #print(l)\n",
    "        elif a[i]==p:\n",
    "            m.append(a[i])\n",
    "            #print(m)\n",
    "        else:\n",
    "            r.append(a[i])\n",
    "            #print(r)\n",
    "    return qs(l)+m+qs(r)"
   ]
  },
  {
   "cell_type": "code",
   "execution_count": 21,
   "id": "3a60e61d",
   "metadata": {},
   "outputs": [
    {
     "name": "stdout",
     "output_type": "stream",
     "text": [
      "[1, 2, 3, 4, 5, 7, 8, 9]\n"
     ]
    }
   ],
   "source": [
    "a = [4,7,8,3,2,9,1,5]\n",
    "print(qs(a))"
   ]
  },
  {
   "cell_type": "code",
   "execution_count": 7,
   "id": "7fc2e6ee",
   "metadata": {},
   "outputs": [],
   "source": [
    "def qs(a):\n",
    "    if len(a)<=1:\n",
    "        return a\n",
    "    p=a[len(a)-1]\n",
    "\n",
    "    for i in range(len(a)):\n",
    "        if a[i]<p:\n",
    "            a[:p]=a[i]\n",
    "        elif a[i]==p:\n",
    "            a[p]=a[i]\n",
    "        else:\n",
    "            a[p:]=a[i]\n",
    "    return qs(a[:p])+a[p]+qs(a[p:])"
   ]
  },
  {
   "cell_type": "code",
   "execution_count": 8,
   "id": "601542de",
   "metadata": {},
   "outputs": [
    {
     "ename": "TypeError",
     "evalue": "can only assign an iterable",
     "output_type": "error",
     "traceback": [
      "\u001b[1;31m---------------------------------------------------------------------------\u001b[0m",
      "\u001b[1;31mTypeError\u001b[0m                                 Traceback (most recent call last)",
      "Cell \u001b[1;32mIn[8], line 2\u001b[0m\n\u001b[0;32m      1\u001b[0m a \u001b[38;5;241m=\u001b[39m [\u001b[38;5;241m4\u001b[39m,\u001b[38;5;241m7\u001b[39m,\u001b[38;5;241m8\u001b[39m,\u001b[38;5;241m3\u001b[39m,\u001b[38;5;241m2\u001b[39m,\u001b[38;5;241m9\u001b[39m,\u001b[38;5;241m1\u001b[39m,\u001b[38;5;241m5\u001b[39m]\n\u001b[1;32m----> 2\u001b[0m \u001b[38;5;28mprint\u001b[39m(qs(a))\n",
      "Cell \u001b[1;32mIn[7], line 8\u001b[0m, in \u001b[0;36mqs\u001b[1;34m(a)\u001b[0m\n\u001b[0;32m      6\u001b[0m \u001b[38;5;28;01mfor\u001b[39;00m i \u001b[38;5;129;01min\u001b[39;00m \u001b[38;5;28mrange\u001b[39m(\u001b[38;5;28mlen\u001b[39m(a)):\n\u001b[0;32m      7\u001b[0m     \u001b[38;5;28;01mif\u001b[39;00m a[i]\u001b[38;5;241m<\u001b[39mp:\n\u001b[1;32m----> 8\u001b[0m         a[:p]\u001b[38;5;241m=\u001b[39ma[i]\n\u001b[0;32m      9\u001b[0m     \u001b[38;5;28;01melif\u001b[39;00m a[i]\u001b[38;5;241m==\u001b[39mp:\n\u001b[0;32m     10\u001b[0m         a[p]\u001b[38;5;241m=\u001b[39ma[i]\n",
      "\u001b[1;31mTypeError\u001b[0m: can only assign an iterable"
     ]
    }
   ],
   "source": [
    "a = [4,7,8,3,2,9,1,5]\n",
    "print(qs(a))"
   ]
  },
  {
   "cell_type": "code",
   "execution_count": 3,
   "id": "7fbdff2d",
   "metadata": {},
   "outputs": [],
   "source": [
    "def qs1(a):\n",
    "    if len(a)<=1:\n",
    "        return a\n",
    "    m1=a[len(a)//2]\n",
    "    l,m,r=[],[],[]\n",
    "    for i in range(len(a)):\n",
    "        if a[i]<m1:\n",
    "            l.append(a[i])\n",
    "        elif a[i]==m1:\n",
    "            m.append(a[i])\n",
    "        else:\n",
    "            r.append(a[i])\n",
    "    return qs1(l)+m+qs1(r)"
   ]
  },
  {
   "cell_type": "code",
   "execution_count": 4,
   "id": "e730af4c",
   "metadata": {},
   "outputs": [
    {
     "name": "stdout",
     "output_type": "stream",
     "text": [
      "[1, 2, 3, 4, 5, 7, 8, 9]\n"
     ]
    }
   ],
   "source": [
    "a = [4,7,8,3,2,9,1,5]\n",
    "print(qs1(a))"
   ]
  },
  {
   "cell_type": "code",
   "execution_count": null,
   "id": "d21b33eb",
   "metadata": {},
   "outputs": [],
   "source": []
  },
  {
   "cell_type": "code",
   "execution_count": 45,
   "id": "597eb1ca",
   "metadata": {},
   "outputs": [
    {
     "name": "stdout",
     "output_type": "stream",
     "text": [
      "[1, 2, 3, 4, 34]\n"
     ]
    }
   ],
   "source": [
    "def merge(l):\n",
    "    if len(l)>1:\n",
    "        mid=len(l)//2\n",
    "        left=l[:mid]\n",
    "        right=l[mid:]\n",
    "        merge(left)\n",
    "        merge(right)\n",
    "        i=j=k=0\n",
    "        while i<len(left) and j<len(right):\n",
    "            if left[i]<right[j]:\n",
    "                l[k]=left[i]\n",
    "                i+=1\n",
    "                k+=1\n",
    "            else:\n",
    "                l[k]=right[j]\n",
    "                j+=1\n",
    "                k+=1\n",
    "        while i<len(left):\n",
    "            l[k]=left[i]\n",
    "            i+=1\n",
    "            k+=1\n",
    "        while j<len(right):\n",
    "            l[k]=right[j]\n",
    "            j+=1\n",
    "            k+=1   \n",
    "a=[1,3,4,2,34]\n",
    "merge(a)    \n",
    "print(a)"
   ]
  },
  {
   "cell_type": "code",
   "execution_count": null,
   "id": "bc4c555d",
   "metadata": {},
   "outputs": [],
   "source": []
  },
  {
   "cell_type": "code",
   "execution_count": 61,
   "id": "d9b828af",
   "metadata": {},
   "outputs": [
    {
     "name": "stdout",
     "output_type": "stream",
     "text": [
      "Enter the elements separated by space: 1 3 5 7 2 4 6 8\n",
      "Sorted Array: [1, 2, 3, 4, 5, 6, 7, 8]\n"
     ]
    }
   ],
   "source": [
    "def merge(L, low, mid, high, temp):\n",
    "    left = L[low:mid+1]\n",
    "    right = L[mid+1:high+1]\n",
    "    i,j,t=0,0,low\n",
    "    while i<len(left) and j<len(right):\n",
    "        if left[i]<=right[j]:\n",
    "            temp[t]=left[i]\n",
    "            i+=1\n",
    "            t+=1\n",
    "        else:\n",
    "            temp[t]=right[j]\n",
    "            j+=1\n",
    "            t+=1\n",
    "    while i<len(left):\n",
    "        temp[t]=left[i]\n",
    "        i+=1\n",
    "        t+=1\n",
    "    while j<len(right):\n",
    "        temp[t]=right[j]\n",
    "        j+=1\n",
    "        t+=1\n",
    "    for i in range(low,high+1):\n",
    "        L[i]=temp[i]\n",
    "def mergesort(L,low,high,temp):\n",
    "    if low<high:\n",
    "        mid=low+(high-low)//2\n",
    "        mergesort(L,low,mid,temp)\n",
    "        mergesort(L,mid+1,high,temp)\n",
    "        merge(L,low,mid,high,temp)\n",
    "if __name__== \"__main__\":\n",
    "    L=list(map(int, input(\"Enter the elements\").split()))\n",
    "    low=0\n",
    "    high=len(L)-1\n",
    "    temp=[0]*len(L)\n",
    "    mergesort(L,low,high,temp)\n",
    "    print(\"Sorted Array:\",L)"
   ]
  },
  {
   "cell_type": "code",
   "execution_count": 41,
   "id": "dc36d689",
   "metadata": {},
   "outputs": [
    {
     "name": "stdout",
     "output_type": "stream",
     "text": [
      "1 3 4 2 34\n",
      "0 4\n",
      "l [1, 2, 3, 4, 34]\n"
     ]
    }
   ],
   "source": [
    "#Merge Sort \n",
    "def merge(L,low,mid,high,temp):\n",
    "    left=L[low:mid+1]\n",
    "    right=L[mid+1:high+1]\n",
    "    i,j,t=0,0,low\n",
    "    while i<len(left) and j<len(right):\n",
    "        if left[i]<=right[j]:\n",
    "            temp[t]=left[i]\n",
    "            i+=1\n",
    "            t+=1\n",
    "        else:\n",
    "            temp[t]=right[j]\n",
    "            j+=1\n",
    "            t+=1\n",
    "    while i<len(left):   \n",
    "        temp[t]=left[i]\n",
    "        i+=1\n",
    "        t+=1\n",
    "    while j<len(right):\n",
    "        temp[t]=right[j]\n",
    "        j+=1\n",
    "        t+=1\n",
    "    for i in range(low,high+1):\n",
    "        L[i]=temp[i]\n",
    "def mergesort(L,low,high,temp):\n",
    "    if low<high:\n",
    "        mid=low+(high-low)//2\n",
    "        mergesort(L,low,mid,temp)\n",
    "        mergesort(L,mid+1,high,temp)\n",
    "        merge(L,low,mid,high,temp)\n",
    "if __name__==\"__main__\":\n",
    "    L=list(map(int,input().split()))\n",
    "    low=0\n",
    "    high=len(L)-1\n",
    "    temp=[0]*len(L)\n",
    "    #print(low,high)\n",
    "    mergesort(L,low,high,temp)\n",
    "    print(\"l\",L)\n",
    "  "
   ]
  },
  {
   "cell_type": "code",
   "execution_count": 29,
   "id": "a79c207f",
   "metadata": {},
   "outputs": [
    {
     "name": "stdout",
     "output_type": "stream",
     "text": [
      "Help on method_descriptor:\n",
      "\n",
      "copy(self, /)\n",
      "    Return a shallow copy of the list.\n",
      "\n"
     ]
    }
   ],
   "source": [
    "help(list.copy)"
   ]
  },
  {
   "cell_type": "code",
   "execution_count": null,
   "id": "ab324605",
   "metadata": {},
   "outputs": [],
   "source": []
  }
 ],
 "metadata": {
  "kernelspec": {
   "display_name": "Python 3 (ipykernel)",
   "language": "python",
   "name": "python3"
  },
  "language_info": {
   "codemirror_mode": {
    "name": "ipython",
    "version": 3
   },
   "file_extension": ".py",
   "mimetype": "text/x-python",
   "name": "python",
   "nbconvert_exporter": "python",
   "pygments_lexer": "ipython3",
   "version": "3.11.5"
  }
 },
 "nbformat": 4,
 "nbformat_minor": 5
}
