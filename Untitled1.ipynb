{
 "cells": [
  {
   "cell_type": "code",
   "execution_count": 1,
   "id": "1cd413d9",
   "metadata": {},
   "outputs": [
    {
     "name": "stdout",
     "output_type": "stream",
     "text": [
      "enter speecha\n"
     ]
    },
    {
     "ename": "NameError",
     "evalue": "name 'a' is not defined",
     "output_type": "error",
     "traceback": [
      "\u001b[1;31m---------------------------------------------------------------------------\u001b[0m",
      "\u001b[1;31mNameError\u001b[0m                                 Traceback (most recent call last)",
      "Cell \u001b[1;32mIn[1], line 2\u001b[0m\n\u001b[0;32m      1\u001b[0m x\u001b[38;5;241m=\u001b[39m[\u001b[38;5;28minput\u001b[39m(\u001b[38;5;124m\"\u001b[39m\u001b[38;5;124menter speech\u001b[39m\u001b[38;5;124m\"\u001b[39m)]\n\u001b[1;32m----> 2\u001b[0m di\u001b[38;5;241m=\u001b[39m{a:\u001b[38;5;241m0\u001b[39m,e:\u001b[38;5;241m0\u001b[39m,i:\u001b[38;5;241m0\u001b[39m,o:\u001b[38;5;241m0\u001b[39m,u:\u001b[38;5;241m0\u001b[39m}\n\u001b[0;32m      3\u001b[0m \u001b[38;5;28;01mfor\u001b[39;00m i \u001b[38;5;129;01min\u001b[39;00m \u001b[38;5;28mrange\u001b[39m(x):\n\u001b[0;32m      4\u001b[0m     a\u001b[38;5;241m.\u001b[39mcount(a)\n",
      "\u001b[1;31mNameError\u001b[0m: name 'a' is not defined"
     ]
    }
   ],
   "source": [
    "x=[input(\"enter speech\")]\n",
    "#di={a:0,e:0,i:0,o:0,u:0}\n",
    "for i in range(x):\n",
    "    a.count(a)\n",
    "print()\n"
   ]
  },
  {
   "cell_type": "code",
   "execution_count": 3,
   "id": "90e595a5",
   "metadata": {},
   "outputs": [
    {
     "name": "stdout",
     "output_type": "stream",
     "text": [
      "srinivas\n"
     ]
    }
   ],
   "source": [
    "x=input()\n",
    "def c1(x):\n",
    "    di={'a':0,'e':0,'i':0,'o':0,'u':0}\n",
    "    for i in x:\n",
    "        if i=='a' or i=='A':\n",
    "            di['a']+=1\n",
    "            break\n",
    "        elif i=='e' or i=='E':\n",
    "            di['e']+=1\n",
    "            break\n",
    "        elif i=='i' or i=='I':\n",
    "            di['i']+=1\n",
    "            break\n",
    "        elif i=='o' or i=='O':\n",
    "            di['o']+=1\n",
    "            break \n",
    "        elif i=='u' or i=='U':\n",
    "            di['u']+=1\n",
    "    s=max(di.values())\n",
    "    r=[]\n",
    "    for i,j in di.items() :\n",
    "        if j==s:\n",
    "            r.append(i)\n",
    "    return r\n",
    "        "
   ]
  },
  {
   "cell_type": "code",
   "execution_count": 4,
   "id": "0ada70fd",
   "metadata": {},
   "outputs": [
    {
     "name": "stdout",
     "output_type": "stream",
     "text": [
      "{'a': ['e'], 'b': ['o']}\n"
     ]
    }
   ],
   "source": [
    "ip=[['a','hello'],['b','how are you']]\n",
    "out={}\n",
    "for i in ip:\n",
    "    out[i[0]]=c1(i[1])\n",
    "print(out)"
   ]
  },
  {
   "cell_type": "code",
   "execution_count": 2,
   "id": "ab7cb71b",
   "metadata": {},
   "outputs": [
    {
     "name": "stdout",
     "output_type": "stream",
     "text": [
      "left []\n",
      "right [4, 3, 5, 1, 1, 1, 1, 1, 3, 6]\n",
      "a 0\n",
      "b 26\n",
      "left [4]\n",
      "right [3, 5, 1, 1, 1, 1, 1, 3, 6]\n",
      "a 4\n",
      "b 22\n",
      "left [4, 3]\n",
      "right [5, 1, 1, 1, 1, 1, 3, 6]\n",
      "a 7\n",
      "b 19\n",
      "left [4, 3, 5]\n",
      "right [1, 1, 1, 1, 1, 3, 6]\n",
      "a 12\n",
      "b 14\n",
      "left [4, 3, 5, 1]\n",
      "right [1, 1, 1, 1, 3, 6]\n",
      "a 13\n",
      "b 13\n",
      "check point position  4 ele 1\n"
     ]
    }
   ],
   "source": [
    "li=[4,3,5,1,1,1,1,1,3,6]\n",
    "x=[1,2,0,1,2]\n",
    "\n",
    "for i in range(len(li)):\n",
    "\n",
    "    #mid=i\n",
    "    left=li[:i]\n",
    "    right=li[i:]\n",
    "    print(\"left\",left)\n",
    "    print('right',right)\n",
    "    a=sum(left)\n",
    "    print('a',a)\n",
    "    b=sum(right)\n",
    "    print('b',b)\n",
    "    if a==b:\n",
    "        print('check point position ',i,\"ele\",li[i])\n",
    "        break\n",
    "    else:\n",
    "        continue\n",
    "    \n",
    "    "
   ]
  },
  {
   "cell_type": "code",
   "execution_count": 27,
   "id": "ff5453df",
   "metadata": {},
   "outputs": [
    {
     "name": "stdout",
     "output_type": "stream",
     "text": [
      "enter no of con ele4\n",
      "25\n",
      "[1, 7, 8, 9]\n"
     ]
    }
   ],
   "source": [
    "li=[1,2,3,4,5,6,1,7,8,9]\n",
    "x=[]\n",
    "n=int(input(\"enter no of con ele\"))\n",
    "for i in range(len(li) - n + 1):\n",
    "    a=li[i:i+n]\n",
    "    #print(a)\n",
    "    b=sum(a)\n",
    "    x.append(b)\n",
    "#print(x)  \n",
    "print(max(x))\n",
    "pos = x.index(max(x))\n",
    "print(li[pos:pos+n])\n",
    "\n",
    "\n",
    "    \n"
   ]
  },
  {
   "cell_type": "code",
   "execution_count": null,
   "id": "1120c38a",
   "metadata": {},
   "outputs": [],
   "source": [
    "li=[1,2,3,4,5,6,1,7,8,9]\n",
    "x=[]\n",
    "n=int(input(\"enter no of con ele\"))\n",
    "for i in range(len(li)-n+1):\n",
    "    a=li[i:i+n]\n",
    "    b=sum(a)\n",
    "    x.append(b)\n",
    "print(max(x))\n",
    "pos = x.index(max(x))\n",
    "print(li[pos:pos+n])\n",
    "\n",
    "\n",
    "    \n"
   ]
  },
  {
   "cell_type": "code",
   "execution_count": 75,
   "id": "9f8d27b7",
   "metadata": {},
   "outputs": [
    {
     "name": "stdout",
     "output_type": "stream",
     "text": [
      "enter no of con ele2\n"
     ]
    },
    {
     "ename": "IndexError",
     "evalue": "list index out of range",
     "output_type": "error",
     "traceback": [
      "\u001b[1;31m---------------------------------------------------------------------------\u001b[0m",
      "\u001b[1;31mIndexError\u001b[0m                                Traceback (most recent call last)",
      "Cell \u001b[1;32mIn[75], line 10\u001b[0m\n\u001b[0;32m      8\u001b[0m         \u001b[38;5;28mmax\u001b[39m\u001b[38;5;241m=\u001b[39mw\n\u001b[0;32m      9\u001b[0m         pos\u001b[38;5;241m=\u001b[39mi\n\u001b[1;32m---> 10\u001b[0m     w\u001b[38;5;241m=\u001b[39mw\u001b[38;5;241m+\u001b[39ml[i\u001b[38;5;241m+\u001b[39mk]\u001b[38;5;241m-\u001b[39ml[i]\n\u001b[0;32m     11\u001b[0m \u001b[38;5;28mprint\u001b[39m(\u001b[38;5;124m\"\u001b[39m\u001b[38;5;124mresult\u001b[39m\u001b[38;5;124m\"\u001b[39m)\n\u001b[0;32m     12\u001b[0m \u001b[38;5;28mprint\u001b[39m(\u001b[38;5;28mmax\u001b[39m)\n",
      "\u001b[1;31mIndexError\u001b[0m: list index out of range"
     ]
    }
   ],
   "source": [
    "l=[1,2,3,4,5,6,7,1]\n",
    "w=max=0\n",
    "k=int(input(\"enter no of con ele\"))\n",
    "for j in range(0,k):\n",
    "    w+=l[j]\n",
    "for i in range(0,len(l)-k+1):\n",
    "    if max<w:\n",
    "        max=w\n",
    "        pos=i\n",
    "    w=w+l[i+k]-l[i]\n",
    "print(\"result\")\n",
    "print(max)\n",
    "for j in range(0,k):\n",
    "    print(l[pos+j])"
   ]
  },
  {
   "cell_type": "code",
   "execution_count": 82,
   "id": "1783c92f",
   "metadata": {},
   "outputs": [
    {
     "name": "stdout",
     "output_type": "stream",
     "text": [
      "enter ele3\n",
      "[1, 4]\n",
      "Differences: 3\n"
     ]
    }
   ],
   "source": [
    "a=[3,4,2,3,7,4]\n",
    "n=int(input(\"enter ele\"))\n",
    "b=[]\n",
    "for i in range(len(a)):\n",
    "  \n",
    "    if a[i]==n:\n",
    "        b.append(i+1)\n",
    "print(b)\n",
    "c=[]\n",
    "for i in range(1,len(b)):  \n",
    "    x= b[i]-b[i - 1]\n",
    "    c.append(x)\n",
    "\n",
    "print(\"Differences:\",x)\n",
    "\n",
    "       \n",
    "\n",
    "\n"
   ]
  },
  {
   "cell_type": "code",
   "execution_count": null,
   "id": "4ad7581d",
   "metadata": {},
   "outputs": [],
   "source": []
  },
  {
   "cell_type": "code",
   "execution_count": null,
   "id": "b5c67f88",
   "metadata": {},
   "outputs": [],
   "source": []
  }
 ],
 "metadata": {
  "kernelspec": {
   "display_name": "Python 3 (ipykernel)",
   "language": "python",
   "name": "python3"
  },
  "language_info": {
   "codemirror_mode": {
    "name": "ipython",
    "version": 3
   },
   "file_extension": ".py",
   "mimetype": "text/x-python",
   "name": "python",
   "nbconvert_exporter": "python",
   "pygments_lexer": "ipython3",
   "version": "3.11.5"
  }
 },
 "nbformat": 4,
 "nbformat_minor": 5
}
