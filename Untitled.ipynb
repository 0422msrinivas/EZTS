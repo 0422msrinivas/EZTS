{
 "cells": [
  {
   "cell_type": "code",
   "execution_count": null,
   "id": "ae172390",
   "metadata": {},
   "outputs": [
    {
     "name": "stdout",
     "output_type": "stream",
     "text": [
      "1\n",
      "[1, 2, 3, 4, 5, '1']\n",
      "2\n",
      "[1, 2, 3, 4, 5, '2']\n",
      "3\n",
      "[1, 2, 3, 4, 5, '3']\n",
      "4\n",
      "[1, 2, 3, 4, 5, '4']\n"
     ]
    }
   ],
   "source": [
    "\n",
    "while True:\n",
    "    evm=[1,2,3,4,5]\n",
    "    evm.extend([input()])\n",
    "    print(evm)\n"
   ]
  },
  {
   "cell_type": "code",
   "execution_count": null,
   "id": "ebb7b0cf",
   "metadata": {},
   "outputs": [],
   "source": []
  },
  {
   "cell_type": "code",
   "execution_count": 12,
   "id": "26f928cd",
   "metadata": {},
   "outputs": [
    {
     "name": "stdout",
     "output_type": "stream",
     "text": [
      "3\n",
      "3\n",
      "3\n",
      "3\n",
      "3\n",
      "[1, 2, 3, 4, 5, 3, 3, 3, 3, 3]\n",
      "[1, 1, 6, 1, 1]\n",
      "2\n",
      "The winner is: 3\n"
     ]
    }
   ],
   "source": [
    "evm=[1,2,3,4,5]\n",
    "count = [0]*5\n",
    "for i in range(5):\n",
    "    evm.append(int(input()))\n",
    "print(evm)\n",
    "for i in evm:\n",
    "    count[i-1] =count[i-1]+1\n",
    "print(count)\n",
    "winner= count.index(max(count))\n",
    "print(winner)\n",
    "a=evm[winner]\n",
    "print(f\"The winner is: {a}\")\n"
   ]
  },
  {
   "cell_type": "code",
   "execution_count": 1,
   "id": "a0514fd2",
   "metadata": {},
   "outputs": [],
   "source": [
    "import os\n",
    "with open(\"file.txt\",'w') as f:\n",
    "    f.write(\"hello\")\n",
    "    f.close()\n",
    "    "
   ]
  },
  {
   "cell_type": "code",
   "execution_count": 3,
   "id": "118279a5",
   "metadata": {},
   "outputs": [
    {
     "name": "stdout",
     "output_type": "stream",
     "text": [
      "hello\n"
     ]
    }
   ],
   "source": [
    "with open(\"file.txt\",'r') as f:\n",
    "    print(f.read())\n",
    "    f.close()"
   ]
  },
  {
   "cell_type": "code",
   "execution_count": 5,
   "id": "0adfc6af",
   "metadata": {},
   "outputs": [],
   "source": [
    "with open(\"file.txt\",'a') as f:\n",
    "    f.write(\"hii\")"
   ]
  },
  {
   "cell_type": "code",
   "execution_count": 6,
   "id": "9f209765",
   "metadata": {},
   "outputs": [],
   "source": [
    "with open(\"intro.txt\",'w') as f:\n",
    "    f.write(\"good afternoon,  I am srinivas.pursuing my enginnering 3rd year at bitm collage.I am good at DSA and DAA concepts and having little bit knowledge about HTML and CSS\") "
   ]
  },
  {
   "cell_type": "code",
   "execution_count": 7,
   "id": "fec8ef4c",
   "metadata": {},
   "outputs": [
    {
     "name": "stdout",
     "output_type": "stream",
     "text": [
      "good afternoon,  I am srinivas.pursuing my enginnering 3rd year at bitm collage.I am good at DSA and DAA concepts and having little bit knowledge about HTML and CSS\n"
     ]
    }
   ],
   "source": [
    "with open(\"intro.txt\",'r') as f:\n",
    "    print(f.read())\n",
    "    "
   ]
  },
  {
   "cell_type": "code",
   "execution_count": 9,
   "id": "4359c65f",
   "metadata": {},
   "outputs": [
    {
     "ename": "NameError",
     "evalue": "name 'oldword' is not defined",
     "output_type": "error",
     "traceback": [
      "\u001b[1;31m---------------------------------------------------------------------------\u001b[0m",
      "\u001b[1;31mNameError\u001b[0m                                 Traceback (most recent call last)",
      "Cell \u001b[1;32mIn[9], line 7\u001b[0m\n\u001b[0;32m      5\u001b[0m \u001b[38;5;28;01mwith\u001b[39;00m \u001b[38;5;28mopen\u001b[39m(\u001b[38;5;124m'\u001b[39m\u001b[38;5;124mfile.txt\u001b[39m\u001b[38;5;124m'\u001b[39m, \u001b[38;5;124m'\u001b[39m\u001b[38;5;124mr\u001b[39m\u001b[38;5;124m'\u001b[39m) \u001b[38;5;28;01mas\u001b[39;00m f:\n\u001b[0;32m      6\u001b[0m     content \u001b[38;5;241m=\u001b[39m f\u001b[38;5;241m.\u001b[39mread()\n\u001b[1;32m----> 7\u001b[0m content \u001b[38;5;241m=\u001b[39m content[:oldword\u001b[38;5;241m-\u001b[39m\u001b[38;5;241m1\u001b[39m] \u001b[38;5;241m+\u001b[39m new_word \u001b[38;5;241m+\u001b[39m content[index \u001b[38;5;241m+\u001b[39m \u001b[38;5;28mlen\u001b[39m(old_word):]\n\u001b[0;32m      8\u001b[0m \u001b[38;5;28;01mwith\u001b[39;00m \u001b[38;5;28mopen\u001b[39m(\u001b[38;5;124m'\u001b[39m\u001b[38;5;124mfile.txt\u001b[39m\u001b[38;5;124m'\u001b[39m, \u001b[38;5;124m'\u001b[39m\u001b[38;5;124mw\u001b[39m\u001b[38;5;124m'\u001b[39m) \u001b[38;5;28;01mas\u001b[39;00m f:\n\u001b[0;32m      9\u001b[0m     f\u001b[38;5;241m.\u001b[39mwrite(content)\n",
      "\u001b[1;31mNameError\u001b[0m: name 'oldword' is not defined"
     ]
    }
   ],
   "source": [
    "with open(\"file.txt\",'w') as f:\n",
    "    f.write(\"Hello\")\n",
    "old_word = \"Hello\"\n",
    "new_word = \"Hi\"\n",
    "with open('file.txt', 'r') as f:\n",
    "    content = f.read()\n",
    "content = content[:oldword-1] + new_word + content[index + len(old_word):]\n",
    "with open('file.txt', 'w') as f:\n",
    "    f.write(content)"
   ]
  },
  {
   "cell_type": "code",
   "execution_count": 13,
   "id": "f1a0fb13",
   "metadata": {},
   "outputs": [],
   "source": [
    "\n",
    "old = \"bitm\"\n",
    "new = \"bellary\"\n",
    "with open(\"example.txt\",'w') as f:\n",
    "    f.write(\"good afternoon, .pursuing my enginnering 3rd year at bitm collage.I am good at DSA and DAA concepts and having little bit knowledge about HTML and CSS\")\n",
    "with open('example.txt', 'r') as f:\n",
    "    content = file.read()\n",
    "index = content.find(old)\n",
    "if index != -1:\n",
    "    content = content[:index]+new+content[index+len(old_word):]\n",
    "\n",
    "with open('example.txt','w') as f:\n",
    "    f.write(content)\n"
   ]
  },
  {
   "cell_type": "markdown",
   "id": "504a6d84",
   "metadata": {},
   "source": [
    "### seek(-35,2) to move cursor  2 means from end and -35 is position to start reading meand start reading from last 35 characters\n"
   ]
  },
  {
   "cell_type": "code",
   "execution_count": 14,
   "id": "0ed832d8",
   "metadata": {},
   "outputs": [
    {
     "name": "stdout",
     "output_type": "stream",
     "text": [
      "0\n"
     ]
    }
   ],
   "source": [
    "#tell is used to move the cursor position\n",
    "#seek used to move the cursor position\n",
    "#negetive seek value work in binary values\n",
    "with open(\"file122.txt\",'a') as f:\n",
    "    print(f.tell())\n",
    "    f.seek(35)\n",
    "    f.write(\"#\")\n",
    "   # print(f.decode('utf-8'))\n",
    "    f.close()"
   ]
  },
  {
   "cell_type": "code",
   "execution_count": 16,
   "id": "0b0fe3ae",
   "metadata": {},
   "outputs": [
    {
     "name": "stdout",
     "output_type": "stream",
     "text": [
      "1,bat,good\n",
      "1,bat,good\n",
      "\n"
     ]
    }
   ],
   "source": [
    "with open(\"file.txt\",\"wb\") as f:\n",
    "    eid=1\n",
    "    name=\"bat\"\n",
    "    condition=\"good\"\n",
    "    s=f\"{eid},{name},{condition}\\n\"\n",
    "    f.write(s.encode())\n",
    "    s=f\"{eid},{name},{condition}\\n\"\n",
    "    f.write(s.encode())\n",
    "    f.close()\n",
    "with open(\"file.txt\",'r') as f:\n",
    "    s=f.read()\n",
    "    print(s)\n",
    "    f.close()"
   ]
  },
  {
   "cell_type": "code",
   "execution_count": null,
   "id": "a5f12642",
   "metadata": {},
   "outputs": [
    {
     "name": "stdout",
     "output_type": "stream",
     "text": [
      "\n",
      "Sports Equipment Rental System\n",
      "1. List Equipment\n",
      "2. Add Equipment\n",
      "3. Update Equipment\n",
      "4. Delete Equipment\n",
      "5. Rent Equipment\n",
      "6. Return Equipment\n",
      "7. View Rentals\n",
      "8. Exit\n",
      "Enter your choice: 1\n",
      "\n",
      "Equipment Available for Rent:\n",
      "\n",
      "Sports Equipment Rental System\n",
      "1. List Equipment\n",
      "2. Add Equipment\n",
      "3. Update Equipment\n",
      "4. Delete Equipment\n",
      "5. Rent Equipment\n",
      "6. Return Equipment\n",
      "7. View Rentals\n",
      "8. Exit\n",
      "Enter your choice: 2\n",
      "\n",
      "Enter the name of the new equipment: bat\n",
      "\n",
      "New equipment bat added with ID 1.\n",
      "\n",
      "Sports Equipment Rental System\n",
      "1. List Equipment\n",
      "2. Add Equipment\n",
      "3. Update Equipment\n",
      "4. Delete Equipment\n",
      "5. Rent Equipment\n",
      "6. Return Equipment\n",
      "7. View Rentals\n",
      "8. Exit\n",
      "Enter your choice: 3\n",
      "\n",
      "Equipment Available for Rent:\n",
      "1: bat - Available\n",
      "\n",
      "Enter the ID of the equipment you want to update: 1\n",
      "Enter the new name for bat: ba\n",
      "\n",
      "Equipment ID 1 updated to ba.\n",
      "\n",
      "Sports Equipment Rental System\n",
      "1. List Equipment\n",
      "2. Add Equipment\n",
      "3. Update Equipment\n",
      "4. Delete Equipment\n",
      "5. Rent Equipment\n",
      "6. Return Equipment\n",
      "7. View Rentals\n",
      "8. Exit\n"
     ]
    }
   ],
   "source": [
    "import os\n",
    "from datetime import datetime\n",
    "\n",
    "EQUIPMENT_FILE = 'equipment.txt'\n",
    "RENTAL_FILE = 'rentals.txt'\n",
    "\n",
    "def initialize_files():\n",
    "    if not os.path.exists(EQUIPMENT_FILE):\n",
    "        with open(EQUIPMENT_FILE, 'wb') as f:\n",
    "            pass\n",
    "    if not os.path.exists(RENTAL_FILE):\n",
    "        with open(RENTAL_FILE, 'wb') as f:\n",
    "            pass\n",
    "\n",
    "def load_equipment():\n",
    "    equipment = []\n",
    "    if os.path.exists(EQUIPMENT_FILE):\n",
    "        with open(EQUIPMENT_FILE, 'r') as f:\n",
    "            for line in f:\n",
    "                eid, name, available = line.strip().split(',')\n",
    "                equipment.append({\n",
    "                    \"id\": int(eid),\n",
    "                    \"name\": name,\n",
    "                    \"available\": available == 'True'\n",
    "                })\n",
    "    return equipment\n",
    "\n",
    "def save_equipment(equipment):\n",
    "    with open(EQUIPMENT_FILE, 'wb') as f:\n",
    "        for eq in equipment:\n",
    "            s = f\"{eq['id']},{eq['name']},{eq['available']}\\n\"\n",
    "            f.write(s.encode())\n",
    "\n",
    "def load_rentals():\n",
    "    rentals = []\n",
    "    if os.path.exists(RENTAL_FILE):\n",
    "        with open(RENTAL_FILE, 'r') as f:\n",
    "            for line in f:\n",
    "                rid, student_name, equipment_id, rent_date, return_date, returned = line.strip().split(',')\n",
    "                rentals.append({\n",
    "                    \"id\": int(rid),\n",
    "                    \"student_name\": student_name,\n",
    "                    \"equipment_id\": int(equipment_id),\n",
    "                    \"rent_date\": rent_date,\n",
    "                    \"return_date\": return_date if return_date != 'None' else None,\n",
    "                    \"returned\": returned == 'True'\n",
    "                })\n",
    "    return rentals\n",
    "\n",
    "def save_rentals(rentals):\n",
    "    with open(RENTAL_FILE, 'wb') as f:\n",
    "        for rental in rentals:\n",
    "            s = f\"{rental['id']},{rental['student_name']},{rental['equipment_id']},{rental['rent_date']},{rental['return_date']},{rental['returned']}\\n\"\n",
    "            f.write(s.encode())\n",
    "\n",
    "def list_equipment():\n",
    "    equipment = load_equipment()\n",
    "    print(\"\\nEquipment Available for Rent:\")\n",
    "    for eq in equipment:\n",
    "        status = \"Available\" if eq['available'] else \"Not Available\"\n",
    "        print(f\"{eq['id']}: {eq['name']} - {status}\")\n",
    "\n",
    "def add_equipment():\n",
    "    equipment = load_equipment()\n",
    "    name = input(\"\\nEnter the name of the new equipment: \")\n",
    "    new_id = max(eq['id'] for eq in equipment) + 1 if equipment else 1\n",
    "    new_equipment = {\n",
    "        \"id\": new_id,\n",
    "        \"name\": name,\n",
    "        \"available\": True\n",
    "    }\n",
    "    equipment.append(new_equipment)\n",
    "    save_equipment(equipment)\n",
    "    print(f\"\\nNew equipment {name} added with ID {new_id}.\")\n",
    "\n",
    "def update_equipment():\n",
    "    equipment = load_equipment()\n",
    "    list_equipment()\n",
    "    eq_id = int(input(\"\\nEnter the ID of the equipment you want to update: \"))\n",
    "    for eq in equipment:\n",
    "        if eq['id'] == eq_id:\n",
    "            new_name = input(f\"Enter the new name for {eq['name']}: \")\n",
    "            eq['name'] = new_name\n",
    "            save_equipment(equipment)\n",
    "            print(f\"\\nEquipment ID {eq_id} updated to {new_name}.\")\n",
    "            return\n",
    "    print(\"\\nInvalid equipment ID.\")\n",
    "\n",
    "def delete_equipment():\n",
    "    equipment = load_equipment()\n",
    "    list_equipment()\n",
    "    eq_id = int(input(\"\\nEnter the ID of the equipment you want to delete: \"))\n",
    "    for eq in equipment:\n",
    "        if eq['id'] == eq_id:\n",
    "            equipment.remove(eq)\n",
    "            save_equipment(equipment)\n",
    "            print(f\"\\nEquipment ID {eq_id} deleted.\")\n",
    "            return\n",
    "    print(\"\\nInvalid equipment ID.\")\n",
    "\n",
    "def rent_equipment():\n",
    "    equipment = load_equipment()\n",
    "    rentals = load_rentals()\n",
    "\n",
    "    list_equipment()\n",
    "    eq_id = int(input(\"\\nEnter the ID of the equipment you want to rent: \"))\n",
    "    student_name = input(\"Enter your name: \")\n",
    "\n",
    "    for eq in equipment:\n",
    "        if eq['id'] == eq_id:\n",
    "            if eq['available']:\n",
    "                eq['available'] = False\n",
    "                rental = {\n",
    "                    'id': len(rentals) + 1,\n",
    "                    'student_name': student_name,\n",
    "                    'equipment_id': eq_id,\n",
    "                    'rent_date': datetime.now().strftime(\"%Y-%m-%d %H:%M:%S\"),\n",
    "                    'return_date': None,\n",
    "                    'returned': False\n",
    "                }\n",
    "                rentals.append(rental)\n",
    "                save_equipment(equipment)\n",
    "                save_rentals(rentals)\n",
    "                print(f\"\\nEquipment {eq['name']} rented to {student_name}.\")\n",
    "            else:\n",
    "                print(f\"\\nEquipment {eq['name']} is not available for rent.\")\n",
    "            return\n",
    "    print(\"\\nInvalid equipment ID.\")\n",
    "\n",
    "def return_equipment():\n",
    "    rentals = load_rentals()\n",
    "    equipment = load_equipment()\n",
    "\n",
    "    rental_id = int(input(\"\\nEnter the rental ID you want to return: \"))\n",
    "\n",
    "    for rental in rentals:\n",
    "        if rental['id'] == rental_id and not rental['returned']:\n",
    "            rental['return_date'] = datetime.now().strftime(\"%Y-%m-%d %H:%M:%S\")\n",
    "            rental['returned'] = True\n",
    "            for eq in equipment:\n",
    "                if eq['id'] == rental['equipment_id']:\n",
    "                    eq['available'] = True\n",
    "                    break\n",
    "            save_equipment(equipment)\n",
    "            save_rentals(rentals)\n",
    "            print(f\"\\nRental ID {rental_id} returned.\")\n",
    "            return\n",
    "    print(\"\\nInvalid rental ID or equipment already returned.\")\n",
    "\n",
    "def view_rentals():\n",
    "    rentals = load_rentals()\n",
    "    equipment = load_equipment()\n",
    "    print(\"\\nAll Rentals:\")\n",
    "    for rental in rentals:\n",
    "        eq_name = next(eq['name'] for eq in equipment if eq['id'] == rental['equipment_id'])\n",
    "        status = \"Returned\" if rental['returned'] else \"Rented\"\n",
    "        print(f\"Rental ID: {rental['id']}, Student: {rental['student_name']}, \"\n",
    "              f\"Equipment: {eq_name}, Rent Date: {rental['rent_date']}, \"\n",
    "              f\"Return Date: {rental['return_date']}, Status: {status}\")\n",
    "\n",
    "def main():\n",
    "    initialize_files()\n",
    "\n",
    "    while True:\n",
    "        print(\"\\nSports Equipment Rental System\")\n",
    "        print(\"1. List Equipment\")\n",
    "        print(\"2. Add Equipment\")\n",
    "        print(\"3. Update Equipment\")\n",
    "        print(\"4. Delete Equipment\")\n",
    "        print(\"5. Rent Equipment\")\n",
    "        print(\"6. Return Equipment\")\n",
    "        print(\"7. View Rentals\")\n",
    "        print(\"8. Exit\")\n",
    "        choice = input(\"Enter your choice: \")\n",
    "\n",
    "        if choice == '1':\n",
    "            list_equipment()\n",
    "        elif choice == '2':\n",
    "            add_equipment()\n",
    "        elif choice == '3':\n",
    "            update_equipment()\n",
    "        elif choice == '4':\n",
    "            delete_equipment()\n",
    "        elif choice == '5':\n",
    "            rent_equipment()\n",
    "        elif choice == '6':\n",
    "            return_equipment()\n",
    "        elif choice == '7':\n",
    "            view_rentals()\n",
    "        elif choice == '8':\n",
    "            break\n",
    "        else:\n",
    "            print(\"\\nInvalid choice. Please try again.\")\n",
    "\n",
    "if __name__ == \"__main__\":\n",
    "    main()\n"
   ]
  },
  {
   "cell_type": "code",
   "execution_count": null,
   "id": "7f6de44c",
   "metadata": {},
   "outputs": [],
   "source": []
  },
  {
   "cell_type": "code",
   "execution_count": null,
   "id": "a921e730",
   "metadata": {},
   "outputs": [],
   "source": []
  }
 ],
 "metadata": {
  "kernelspec": {
   "display_name": "Python 3 (ipykernel)",
   "language": "python",
   "name": "python3"
  },
  "language_info": {
   "codemirror_mode": {
    "name": "ipython",
    "version": 3
   },
   "file_extension": ".py",
   "mimetype": "text/x-python",
   "name": "python",
   "nbconvert_exporter": "python",
   "pygments_lexer": "ipython3",
   "version": "3.11.5"
  }
 },
 "nbformat": 4,
 "nbformat_minor": 5
}
