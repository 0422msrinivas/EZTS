{
 "cells": [
  {
   "cell_type": "code",
   "execution_count": 16,
   "id": "7a647be7",
   "metadata": {},
   "outputs": [
    {
     "name": "stdout",
     "output_type": "stream",
     "text": [
      "[10]\n",
      "[]\n"
     ]
    },
    {
     "data": {
      "text/plain": [
       "0"
      ]
     },
     "execution_count": 16,
     "metadata": {},
     "output_type": "execute_result"
    }
   ],
   "source": [
    "class stack:\n",
    "    def __init__(self):\n",
    "        self.items=[]\n",
    "    def push(self,data):\n",
    "        self.items.append(data)\n",
    "    def pop(self):\n",
    "        self.items.pop()\n",
    "    def size(self):\n",
    "        return len(self.items)\n",
    "    \n",
    "s=stack()\n",
    "s.push(10)\n",
    "print(s.items)\n",
    "s.pop()\n",
    "print(s.items)\n",
    "s.size()"
   ]
  },
  {
   "cell_type": "code",
   "execution_count": 11,
   "id": "4bfd5e40",
   "metadata": {},
   "outputs": [
    {
     "name": "stdout",
     "output_type": "stream",
     "text": [
      "enter expression[3+2\n",
      "valid\n",
      "['[']\n"
     ]
    }
   ],
   "source": [
    "op=[]\n",
    "flag=0\n",
    "ip=input(\"enter expression\")\n",
    "for i in ip:\n",
    "        if i=='[' or i=='{' or i==\"(\":\n",
    "            op.append(i)\n",
    "        if i==']' or i=='}' or i==')':\n",
    "                x=op.pop()\n",
    "                if x=='(' and i==')': \n",
    "                    pass\n",
    "                elif x=='[' and i==']': \n",
    "                    pass\n",
    "                elif x=='{' and i=='}': \n",
    "                    pass\n",
    "                else:\n",
    "                    flag=1\n",
    "                    break\n",
    "\n",
    "if flag==0:\n",
    "    print('valid')\n",
    "else:\n",
    "    print('invalid')\n",
    "\n",
    "print(op)\n",
    "        \n",
    "            \n",
    "            \n",
    "            "
   ]
  },
  {
   "cell_type": "code",
   "execution_count": 13,
   "id": "0e7980e7",
   "metadata": {},
   "outputs": [
    {
     "name": "stdout",
     "output_type": "stream",
     "text": [
      "[3+2\n",
      "valid\n"
     ]
    }
   ],
   "source": [
    "e=input()\n",
    "\n",
    "s=[]\n",
    "\n",
    "flag=0\n",
    "for i in e:\n",
    "    if i=='[' or i=='{' or i==\"(\":\n",
    "        s.append(i)\n",
    "    if i==']' or i=='}' or i==')':\n",
    "        x=s.pop()\n",
    "        if x == \"(\" and i ==\")\":\n",
    "            pass\n",
    "        elif x == \"{\" and i ==\"}\":\n",
    "            pass\n",
    "        elif x == \"[\" and i ==\"]\":\n",
    "            pass\n",
    "        else:\n",
    "            flag=1\n",
    "            break\n",
    "            \n",
    "if (flag==0 ):\n",
    "    print(\"valid\")\n",
    "else:\n",
    "    print(\"invaid\")"
   ]
  },
  {
   "cell_type": "code",
   "execution_count": 21,
   "id": "e0878ad0",
   "metadata": {},
   "outputs": [
    {
     "name": "stdout",
     "output_type": "stream",
     "text": [
      "[3+2]\n",
      "invaid\n"
     ]
    }
   ],
   "source": [
    "e=input()\n",
    "s=stack()\n",
    "ob=\"[{(\"\n",
    "cb=\"]})\"\n",
    "flag=0\n",
    "for i in e:\n",
    "    if i in ob:\n",
    "        s.push(\"[\")\n",
    "    if i in cb:\n",
    "        x=s.pop()\n",
    "        if x == \"(\" and i ==\")\":\n",
    "            pass\n",
    "        elif x == \"{\" and i ==\"}\":\n",
    "            pass\n",
    "        elif x == \"[\" and i ==\"]\":\n",
    "            pass\n",
    "        else:\n",
    "            flag=1\n",
    "            break\n",
    "            \n",
    "if (flag==0 ) and s.size()==None:\n",
    "    print(\"valid\")\n",
    "else:\n",
    "    print(\"invaid\")"
   ]
  },
  {
   "cell_type": "code",
   "execution_count": 27,
   "id": "27506a85",
   "metadata": {},
   "outputs": [
    {
     "name": "stdout",
     "output_type": "stream",
     "text": [
      "Enter expression: [3+2]\n",
      "invalid\n"
     ]
    }
   ],
   "source": [
    "s = stack()\n",
    "e = input(\"Enter expression: \")\n",
    "\n",
    "ob = \"[{(\"\n",
    "cb = \"]})\"\n",
    "flag = 0\n",
    "\n",
    "for i in e:\n",
    "    if i in ob:\n",
    "        s.push(i)\n",
    "    elif i in cb:\n",
    "        x = s.pop()\n",
    "        if x is None:  # Check if stack is empty\n",
    "            flag = 1\n",
    "            break\n",
    "        if (x == \"(\" and i == \")\") or (x == \"{\" and i == \"}\") or (x == \"[\" and i == \"]\"):\n",
    "            pass\n",
    "        else:\n",
    "            flag = 1\n",
    "            break\n",
    "\n",
    "if flag == 0 and s.size()==None:\n",
    "    print(\"valid\")\n",
    "else:\n",
    "    print(\"invalid\")\n"
   ]
  },
  {
   "cell_type": "code",
   "execution_count": 60,
   "id": "5df6203e",
   "metadata": {},
   "outputs": [
    {
     "name": "stdout",
     "output_type": "stream",
     "text": [
      "[]\n"
     ]
    }
   ],
   "source": [
    "l=[3,5,7,2]\n",
    "m=0\n",
    "x=[]\n",
    "for i in range(0,len(l),-1):\n",
    "   \n",
    "    if l[i+1]<=l[i]:\n",
    "        m=l[i]\n",
    "        x.append(m)\n",
    "        print(x)\n",
    "    else:\n",
    "        m= -1\n",
    "        x.append(m)\n",
    "print(x)\n",
    "    \n",
    "        \n",
    "        \n",
    "        "
   ]
  },
  {
   "cell_type": "code",
   "execution_count": 68,
   "id": "50109d53",
   "metadata": {},
   "outputs": [
    {
     "name": "stdout",
     "output_type": "stream",
     "text": [
      "[10, 20]\n",
      "[20]\n"
     ]
    },
    {
     "data": {
      "text/plain": [
       "1"
      ]
     },
     "execution_count": 68,
     "metadata": {},
     "output_type": "execute_result"
    }
   ],
   "source": [
    "class Q:\n",
    "    def __init__(self):\n",
    "        self.items=[]\n",
    "    def push(self,data):\n",
    "        self.items.append(data)\n",
    "    def pop(self):\n",
    "        self.items.pop(0)\n",
    "    def size(self):\n",
    "        return len(self.items)\n",
    "    \n",
    "s=stack()\n",
    "s.push(10)\n",
    "s.push(20)\n",
    "print(s.items)\n",
    "s.pop()\n",
    "print(s.items)\n",
    "s.size()"
   ]
  },
  {
   "cell_type": "code",
   "execution_count": 9,
   "id": "1b976a59",
   "metadata": {},
   "outputs": [
    {
     "name": "stdout",
     "output_type": "stream",
     "text": [
      "<__main__.Node object at 0x000002A7B05AF7D0>\n",
      "30\n",
      "40\n",
      "40\n"
     ]
    }
   ],
   "source": [
    "class Node:\n",
    "    def __init__(self,data):\n",
    "        self.val=data\n",
    "        self.next=None\n",
    "Head=Node(10)\n",
    "Head.next=Node(20)\n",
    "\n",
    "\n",
    "head=tail=Node(30)\n",
    "tail.next=Node(40)\n",
    "tail=tail.next\n",
    "print(head)\n",
    "print(head.val)\n",
    "print(head.next.val)\n",
    "print(tail.val)"
   ]
  },
  {
   "cell_type": "code",
   "execution_count": 18,
   "id": "1a70d4ce",
   "metadata": {},
   "outputs": [
    {
     "ename": "UnboundLocalError",
     "evalue": "cannot access local variable 'head' where it is not associated with a value",
     "output_type": "error",
     "traceback": [
      "\u001b[1;31m---------------------------------------------------------------------------\u001b[0m",
      "\u001b[1;31mUnboundLocalError\u001b[0m                         Traceback (most recent call last)",
      "Cell \u001b[1;32mIn[18], line 11\u001b[0m\n\u001b[0;32m      7\u001b[0m         \u001b[38;5;28mself\u001b[39m\u001b[38;5;241m.\u001b[39mtemp\u001b[38;5;241m.\u001b[39mnext\u001b[38;5;241m=\u001b[39mhead\n\u001b[0;32m      8\u001b[0m         \u001b[38;5;28mself\u001b[39m\u001b[38;5;241m.\u001b[39mhead\u001b[38;5;241m=\u001b[39mtemp\n\u001b[1;32m---> 11\u001b[0m insert_front(\u001b[38;5;241m20\u001b[39m)\n",
      "Cell \u001b[1;32mIn[12], line 9\u001b[0m, in \u001b[0;36minsert_front\u001b[1;34m(data)\u001b[0m\n\u001b[0;32m      7\u001b[0m \u001b[38;5;28;01mdef\u001b[39;00m \u001b[38;5;21minsert_front\u001b[39m(data):\n\u001b[0;32m      8\u001b[0m     temp\u001b[38;5;241m=\u001b[39mNode(data)\n\u001b[1;32m----> 9\u001b[0m     temp\u001b[38;5;241m.\u001b[39mnext\u001b[38;5;241m=\u001b[39mhead\n\u001b[0;32m     10\u001b[0m     head\u001b[38;5;241m=\u001b[39mtemp\n",
      "\u001b[1;31mUnboundLocalError\u001b[0m: cannot access local variable 'head' where it is not associated with a value"
     ]
    }
   ],
   "source": [
    "class Node:\n",
    "    def __init__(self,data):\n",
    "        self.val=data\n",
    "        self.next=None\n",
    "    def insert_front(self,data):\n",
    "        self.temp=Node(data)\n",
    "        self.temp.next=head\n",
    "        self.head=temp\n",
    "\n",
    "\n",
    "insert_front(20)\n",
    "    "
   ]
  },
  {
   "cell_type": "code",
   "execution_count": 3,
   "id": "f6deb939",
   "metadata": {},
   "outputs": [
    {
     "name": "stdout",
     "output_type": "stream",
     "text": [
      "10\n",
      "10->20->30->40->None\n"
     ]
    }
   ],
   "source": [
    "class Node:\n",
    "    def __init__(self,data):\n",
    "        self.value=data\n",
    "        self.next=None\n",
    "    \n",
    "head=tail=Node(10)\n",
    "# tail=tail.next\n",
    "\n",
    "tail.next=Node(20)\n",
    "tail=tail.next\n",
    "tail.next=Node(30)\n",
    "tail=tail.next\n",
    "tail.next=Node(40)\n",
    "tail=tail.next\n",
    "# print(head)\n",
    "print(head.value)\n",
    "# head=100\n",
    "\n",
    "def print_list(head):\n",
    "    curr=head\n",
    "    while curr:\n",
    "        print(curr.value,end=\"->\")\n",
    "        curr=curr.next\n",
    "    print(\"None\")\n",
    "\n",
    "print_list(head)"
   ]
  },
  {
   "cell_type": "code",
   "execution_count": 7,
   "id": "11b104b5",
   "metadata": {},
   "outputs": [
    {
     "name": "stdout",
     "output_type": "stream",
     "text": [
      "10->20->30->40->None\n"
     ]
    }
   ],
   "source": [
    "def fronti(data):\n",
    "    global head\n",
    "    temp=Node(data)\n",
    "    temp.next=head\n",
    "    #temp.value=200\n",
    "    head=temp.next\n",
    "fronti(30)\n",
    "print_list(head)"
   ]
  },
  {
   "cell_type": "code",
   "execution_count": 13,
   "id": "3baabdfa",
   "metadata": {},
   "outputs": [
    {
     "name": "stdout",
     "output_type": "stream",
     "text": [
      "Help on built-in function eval in module builtins:\n",
      "\n",
      "eval(source, globals=None, locals=None, /)\n",
      "    Evaluate the given source in the context of globals and locals.\n",
      "    \n",
      "    The source may be a string representing a Python expression\n",
      "    or a code object as returned by compile().\n",
      "    The globals must be a dictionary and locals can be any mapping,\n",
      "    defaulting to the current globals and locals.\n",
      "    If only globals is given, locals defaults to it.\n",
      "\n",
      "3+2\n"
     ]
    },
    {
     "ename": "AttributeError",
     "evalue": "'str' object has no attribute 'eval'",
     "output_type": "error",
     "traceback": [
      "\u001b[1;31m---------------------------------------------------------------------------\u001b[0m",
      "\u001b[1;31mAttributeError\u001b[0m                            Traceback (most recent call last)",
      "Cell \u001b[1;32mIn[13], line 4\u001b[0m\n\u001b[0;32m      1\u001b[0m help(\u001b[38;5;28meval\u001b[39m)\n\u001b[0;32m      3\u001b[0m x\u001b[38;5;241m=\u001b[39m\u001b[38;5;28minput\u001b[39m()\n\u001b[1;32m----> 4\u001b[0m y\u001b[38;5;241m=\u001b[39mx\u001b[38;5;241m.\u001b[39meval(x)\n\u001b[0;32m      5\u001b[0m \u001b[38;5;28mprint\u001b[39m(y)\n",
      "\u001b[1;31mAttributeError\u001b[0m: 'str' object has no attribute 'eval'"
     ]
    }
   ],
   "source": [
    "help(eval)\n",
    "\n",
    "x=input()\n",
    "y=x.eval(x)\n",
    "print(y)"
   ]
  },
  {
   "cell_type": "code",
   "execution_count": 15,
   "id": "87bfd339",
   "metadata": {},
   "outputs": [
    {
     "name": "stdout",
     "output_type": "stream",
     "text": [
      "enter list3+2\n",
      "5\n"
     ]
    }
   ],
   "source": [
    "a=(eval(input(\"enter list\")))\n",
    "print(a)\n",
    "#print(list(a))"
   ]
  },
  {
   "cell_type": "code",
   "execution_count": 39,
   "id": "019d85b1",
   "metadata": {},
   "outputs": [
    {
     "name": "stdout",
     "output_type": "stream",
     "text": [
      "3+2\n",
      "5\n"
     ]
    }
   ],
   "source": [
    "a=input()\n",
    "x=[]\n",
    "for i in a:\n",
    "    if i.isalnum():\n",
    "        x.append(int(i))\n",
    "    elif i=='+' or i=='-' or i=='*' or i=='/':\n",
    "            y=i\n",
    "match y:\n",
    "    case '+':op=x[0]+x[1]\n",
    "    case '-':op=x[0]-x[1]\n",
    "    case '*':op=x[0]*x[1]\n",
    "    case '/':op=x[0]/x[1]\n",
    "    case '%':op=x[0]%x[1]\n",
    "\n",
    "\n",
    "print(op)\n"
   ]
  },
  {
   "cell_type": "code",
   "execution_count": 29,
   "id": "fdffb061",
   "metadata": {},
   "outputs": [
    {
     "name": "stdout",
     "output_type": "stream",
     "text": [
      "3+2\n",
      "3+2\n"
     ]
    }
   ],
   "source": [
    "s=input()\n",
    "op=['+','-','*','/','%']\n",
    "for i in s:\n",
    "    if i in op:\n",
    "        x=i\n",
    "        s.replace(i,\" \")\n",
    "print(s)\n",
    "        "
   ]
  },
  {
   "cell_type": "code",
   "execution_count": null,
   "id": "e98ca2fe",
   "metadata": {},
   "outputs": [],
   "source": []
  }
 ],
 "metadata": {
  "kernelspec": {
   "display_name": "Python 3 (ipykernel)",
   "language": "python",
   "name": "python3"
  },
  "language_info": {
   "codemirror_mode": {
    "name": "ipython",
    "version": 3
   },
   "file_extension": ".py",
   "mimetype": "text/x-python",
   "name": "python",
   "nbconvert_exporter": "python",
   "pygments_lexer": "ipython3",
   "version": "3.11.5"
  }
 },
 "nbformat": 4,
 "nbformat_minor": 5
}
